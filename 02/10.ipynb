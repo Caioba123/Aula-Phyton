{
  "cells": [
    {
      "cell_type": "markdown",
      "metadata": {
        "id": "view-in-github",
        "colab_type": "text"
      },
      "source": [
        "<a href=\"https://colab.research.google.com/github/Caioba123/Aula-Phyton/blob/main/02/10.ipynb\" target=\"_parent\"><img src=\"https://colab.research.google.com/assets/colab-badge.svg\" alt=\"Open In Colab\"/></a>"
      ]
    },
    {
      "cell_type": "code",
      "execution_count": null,
      "metadata": {
        "colab": {
          "base_uri": "https://localhost:8080/"
        },
        "id": "4-TUy_y-gpaa",
        "outputId": "9d871f02-7da1-4a5c-cac4-1e314548b55b"
      },
      "outputs": [
        {
          "output_type": "stream",
          "name": "stdout",
          "text": [
            "Requirement already satisfied: PyPDF2 in /usr/local/lib/python3.12/dist-packages (3.0.1)\n"
          ]
        }
      ],
      "source": [
        "!pip install PyPDF2"
      ]
    },
    {
      "cell_type": "code",
      "execution_count": null,
      "metadata": {
        "colab": {
          "base_uri": "https://localhost:8080/",
          "height": 107
        },
        "id": "dqNRBGU-YN22",
        "outputId": "3cfa2021-ee30-434d-a7d1-5c05ead4aa46"
      },
      "outputs": [
        {
          "output_type": "stream",
          "name": "stdout",
          "text": [
            "Olá, Seja Bem-Vindo!\n"
          ]
        },
        {
          "output_type": "display_data",
          "data": {
            "text/plain": [
              "<IPython.core.display.HTML object>"
            ],
            "text/html": [
              "\n",
              "     <input type=\"file\" id=\"files-76523a40-116e-4544-83b7-6bab82b1feb4\" name=\"files[]\" multiple disabled\n",
              "        style=\"border:none\" />\n",
              "     <output id=\"result-76523a40-116e-4544-83b7-6bab82b1feb4\">\n",
              "      Upload widget is only available when the cell has been executed in the\n",
              "      current browser session. Please rerun this cell to enable.\n",
              "      </output>\n",
              "      <script>// Copyright 2017 Google LLC\n",
              "//\n",
              "// Licensed under the Apache License, Version 2.0 (the \"License\");\n",
              "// you may not use this file except in compliance with the License.\n",
              "// You may obtain a copy of the License at\n",
              "//\n",
              "//      http://www.apache.org/licenses/LICENSE-2.0\n",
              "//\n",
              "// Unless required by applicable law or agreed to in writing, software\n",
              "// distributed under the License is distributed on an \"AS IS\" BASIS,\n",
              "// WITHOUT WARRANTIES OR CONDITIONS OF ANY KIND, either express or implied.\n",
              "// See the License for the specific language governing permissions and\n",
              "// limitations under the License.\n",
              "\n",
              "/**\n",
              " * @fileoverview Helpers for google.colab Python module.\n",
              " */\n",
              "(function(scope) {\n",
              "function span(text, styleAttributes = {}) {\n",
              "  const element = document.createElement('span');\n",
              "  element.textContent = text;\n",
              "  for (const key of Object.keys(styleAttributes)) {\n",
              "    element.style[key] = styleAttributes[key];\n",
              "  }\n",
              "  return element;\n",
              "}\n",
              "\n",
              "// Max number of bytes which will be uploaded at a time.\n",
              "const MAX_PAYLOAD_SIZE = 100 * 1024;\n",
              "\n",
              "function _uploadFiles(inputId, outputId) {\n",
              "  const steps = uploadFilesStep(inputId, outputId);\n",
              "  const outputElement = document.getElementById(outputId);\n",
              "  // Cache steps on the outputElement to make it available for the next call\n",
              "  // to uploadFilesContinue from Python.\n",
              "  outputElement.steps = steps;\n",
              "\n",
              "  return _uploadFilesContinue(outputId);\n",
              "}\n",
              "\n",
              "// This is roughly an async generator (not supported in the browser yet),\n",
              "// where there are multiple asynchronous steps and the Python side is going\n",
              "// to poll for completion of each step.\n",
              "// This uses a Promise to block the python side on completion of each step,\n",
              "// then passes the result of the previous step as the input to the next step.\n",
              "function _uploadFilesContinue(outputId) {\n",
              "  const outputElement = document.getElementById(outputId);\n",
              "  const steps = outputElement.steps;\n",
              "\n",
              "  const next = steps.next(outputElement.lastPromiseValue);\n",
              "  return Promise.resolve(next.value.promise).then((value) => {\n",
              "    // Cache the last promise value to make it available to the next\n",
              "    // step of the generator.\n",
              "    outputElement.lastPromiseValue = value;\n",
              "    return next.value.response;\n",
              "  });\n",
              "}\n",
              "\n",
              "/**\n",
              " * Generator function which is called between each async step of the upload\n",
              " * process.\n",
              " * @param {string} inputId Element ID of the input file picker element.\n",
              " * @param {string} outputId Element ID of the output display.\n",
              " * @return {!Iterable<!Object>} Iterable of next steps.\n",
              " */\n",
              "function* uploadFilesStep(inputId, outputId) {\n",
              "  const inputElement = document.getElementById(inputId);\n",
              "  inputElement.disabled = false;\n",
              "\n",
              "  const outputElement = document.getElementById(outputId);\n",
              "  outputElement.innerHTML = '';\n",
              "\n",
              "  const pickedPromise = new Promise((resolve) => {\n",
              "    inputElement.addEventListener('change', (e) => {\n",
              "      resolve(e.target.files);\n",
              "    });\n",
              "  });\n",
              "\n",
              "  const cancel = document.createElement('button');\n",
              "  inputElement.parentElement.appendChild(cancel);\n",
              "  cancel.textContent = 'Cancel upload';\n",
              "  const cancelPromise = new Promise((resolve) => {\n",
              "    cancel.onclick = () => {\n",
              "      resolve(null);\n",
              "    };\n",
              "  });\n",
              "\n",
              "  // Wait for the user to pick the files.\n",
              "  const files = yield {\n",
              "    promise: Promise.race([pickedPromise, cancelPromise]),\n",
              "    response: {\n",
              "      action: 'starting',\n",
              "    }\n",
              "  };\n",
              "\n",
              "  cancel.remove();\n",
              "\n",
              "  // Disable the input element since further picks are not allowed.\n",
              "  inputElement.disabled = true;\n",
              "\n",
              "  if (!files) {\n",
              "    return {\n",
              "      response: {\n",
              "        action: 'complete',\n",
              "      }\n",
              "    };\n",
              "  }\n",
              "\n",
              "  for (const file of files) {\n",
              "    const li = document.createElement('li');\n",
              "    li.append(span(file.name, {fontWeight: 'bold'}));\n",
              "    li.append(span(\n",
              "        `(${file.type || 'n/a'}) - ${file.size} bytes, ` +\n",
              "        `last modified: ${\n",
              "            file.lastModifiedDate ? file.lastModifiedDate.toLocaleDateString() :\n",
              "                                    'n/a'} - `));\n",
              "    const percent = span('0% done');\n",
              "    li.appendChild(percent);\n",
              "\n",
              "    outputElement.appendChild(li);\n",
              "\n",
              "    const fileDataPromise = new Promise((resolve) => {\n",
              "      const reader = new FileReader();\n",
              "      reader.onload = (e) => {\n",
              "        resolve(e.target.result);\n",
              "      };\n",
              "      reader.readAsArrayBuffer(file);\n",
              "    });\n",
              "    // Wait for the data to be ready.\n",
              "    let fileData = yield {\n",
              "      promise: fileDataPromise,\n",
              "      response: {\n",
              "        action: 'continue',\n",
              "      }\n",
              "    };\n",
              "\n",
              "    // Use a chunked sending to avoid message size limits. See b/62115660.\n",
              "    let position = 0;\n",
              "    do {\n",
              "      const length = Math.min(fileData.byteLength - position, MAX_PAYLOAD_SIZE);\n",
              "      const chunk = new Uint8Array(fileData, position, length);\n",
              "      position += length;\n",
              "\n",
              "      const base64 = btoa(String.fromCharCode.apply(null, chunk));\n",
              "      yield {\n",
              "        response: {\n",
              "          action: 'append',\n",
              "          file: file.name,\n",
              "          data: base64,\n",
              "        },\n",
              "      };\n",
              "\n",
              "      let percentDone = fileData.byteLength === 0 ?\n",
              "          100 :\n",
              "          Math.round((position / fileData.byteLength) * 100);\n",
              "      percent.textContent = `${percentDone}% done`;\n",
              "\n",
              "    } while (position < fileData.byteLength);\n",
              "  }\n",
              "\n",
              "  // All done.\n",
              "  yield {\n",
              "    response: {\n",
              "      action: 'complete',\n",
              "    }\n",
              "  };\n",
              "}\n",
              "\n",
              "scope.google = scope.google || {};\n",
              "scope.google.colab = scope.google.colab || {};\n",
              "scope.google.colab._files = {\n",
              "  _uploadFiles,\n",
              "  _uploadFilesContinue,\n",
              "};\n",
              "})(self);\n",
              "</script> "
            ]
          },
          "metadata": {}
        },
        {
          "output_type": "stream",
          "name": "stdout",
          "text": [
            "Saving Livro.pdf to Livro (6).pdf\n",
            "Texto PDF carrgado com sucesso!\n"
          ]
        }
      ],
      "source": [
        "print(\"Olá, Seja Bem-Vindo!\")\n",
        "\n",
        "\n",
        "from google.colab import files\n",
        "import PyPDF2\n",
        "\n",
        "#Upload do PDF\n",
        "uploaded = files.upload()\n",
        "nome_arquivo = list(uploaded.keys())[0]\n",
        "\n",
        "#Extrair texto\n",
        "texto =\"\"\n",
        "with open(nome_arquivo, \"rb\") as pdf_file:\n",
        "    leitor = PyPDF2.PdfReader(pdf_file)\n",
        "    for pagina in leitor.pages:\n",
        "      texto += pagina.extract_text()\n",
        "\n",
        "print(\"Texto PDF carrgado com sucesso!\")"
      ]
    },
    {
      "cell_type": "code",
      "execution_count": null,
      "metadata": {
        "id": "aTj08VM7ghiZ"
      },
      "outputs": [],
      "source": [
        "def responder(pergunta):\n",
        "  # Procurar a pergunta dentro do texto\n",
        "  if pergunta.lower() in texto.lower():\n",
        "    # Quebrar o texto em frases para achar uma resposta\n",
        "    frases = texto.split(\".\")\n",
        "    for frase in frases:\n",
        "      if pergunta.lower() in frase.lower():\n",
        "         return frase.strip() + \".\"\n",
        "    return \"Encontrei algo, mas não consegui extrair a frase completa.\"\n",
        "  else:\n",
        "    return \"Não encontrei uma resposta exata, tente reformular a pergunta\"\n",
        "\n",
        "# Loop de interação\n",
        "while True:\n",
        "  pergunta = input(\"Digite sua pergunta (ou 'sair' para encerrar): \")\n",
        "  if pergunta.lower() == \"sair\":\n",
        "     break\n",
        "  resposta = responder(pergunta)\n",
        "  print(\"Resposta: \" , resposta)"
      ]
    },
    {
      "cell_type": "code",
      "execution_count": null,
      "metadata": {
        "colab": {
          "base_uri": "https://localhost:8080/"
        },
        "id": "yiszOSqIghVk",
        "outputId": "d806cddb-85b1-44e1-a8ce-6b7a96fd8e52"
      },
      "outputs": [
        {
          "name": "stdout",
          "output_type": "stream",
          "text": [
            "CSV com o conteúdo do livro criado!\n"
          ]
        }
      ],
      "source": [
        "import csv\n",
        "with open(\"conteudo_livro.csv\" , \"w\" , newline=\"\" , encoding=\"utf-8\") as f:\n",
        "  writer = csv.writer(f)\n",
        "  writer.writerow(\"[texto]\")\n",
        "  writer.writerow([texto])\n",
        "\n",
        "print(\"CSV com o conteúdo do livro criado!\")"
      ]
    },
    {
      "cell_type": "markdown",
      "source": [
        "Questão 1"
      ],
      "metadata": {
        "id": "VmUiRRE73gFx"
      }
    },
    {
      "cell_type": "code",
      "source": [
        "numero1 = input(\"Digite o número: \")\n",
        "numero = int(numero1)\n",
        "\n",
        "antecessor = numero - 1\n",
        "print(\"O antecessor do seu número é: \" , antecessor)"
      ],
      "metadata": {
        "id": "eIZi5opw3ii4"
      },
      "execution_count": null,
      "outputs": []
    },
    {
      "cell_type": "markdown",
      "source": [
        "Questão 2"
      ],
      "metadata": {
        "id": "o_0HchgQ4dlC"
      }
    },
    {
      "cell_type": "code",
      "source": [
        "\n",
        "base = input(\"Digite a base do triângulo: \")\n",
        "altura = input(\"Digite a altura do triângulo: \")\n",
        "\n",
        "\n",
        "base = float(base)\n",
        "altura = float(altura)\n",
        "\n",
        "area = (base * altura) / 2\n",
        "\n",
        "print(f\"A base é: {base}\")\n",
        "print(f\"A altura é: {altura}\")\n",
        "print(f\"E o resultado da área é: {area}\")\n"
      ],
      "metadata": {
        "colab": {
          "base_uri": "https://localhost:8080/"
        },
        "id": "1IG9i_r94gVB",
        "outputId": "b83f9adb-69cf-4010-c45d-c236daf88618"
      },
      "execution_count": 47,
      "outputs": [
        {
          "output_type": "stream",
          "name": "stdout",
          "text": [
            "Digite a base do triângulo: 10\n",
            "Digite a altura do triângulo: 10\n",
            "A base é: 10.0\n",
            "A altura é: 10.0\n",
            "E o resultado da área é: 50.0\n"
          ]
        }
      ]
    },
    {
      "cell_type": "markdown",
      "source": [
        "Questão 3"
      ],
      "metadata": {
        "id": "7IxA1VywGBjr"
      }
    },
    {
      "cell_type": "code",
      "source": [
        "total_eleitores = int(input(\"Digite o número total de eleitores: \"))\n",
        "votos_brancos = int(input(\"Digite o número de votos brancos: \"))\n",
        "votos_nulos = int(input(\"Digite o número de votos nulos: \"))\n",
        "votos_validos = int(input(\"Digite o número de votos válidos: \"))\n",
        "\n",
        "\n",
        "if votos_brancos + votos_nulos + votos_validos != total_eleitores:\n",
        "    print(\"Erro: A soma dos votos brancos, nulos e válidos deve ser igual ao número total de eleitores.\")\n",
        "else:\n",
        "\n",
        "    porcentagem_brancos = (votos_brancos / total_eleitores) * 100\n",
        "    porcentagem_nulos = (votos_nulos / total_eleitores) * 100\n",
        "    porcentagem_validos = (votos_validos / total_eleitores) * 100\n",
        "\n",
        "\n",
        "    print(f\"Porcentagem de votos brancos: {porcentagem_brancos}\")\n",
        "    print(f\"Porcentagem de votos nulos: {porcentagem_nulos}\")\n",
        "    print(f\"Porcentagem de votos válidos: {porcentagem_validos}\")"
      ],
      "metadata": {
        "colab": {
          "base_uri": "https://localhost:8080/"
        },
        "id": "5lMXkOGpGC8Z",
        "outputId": "d79883da-fe80-4707-8220-07519b079e10"
      },
      "execution_count": 51,
      "outputs": [
        {
          "output_type": "stream",
          "name": "stdout",
          "text": [
            "Digite o número total de eleitores: 20\n",
            "Digite o número de votos brancos: 2\n",
            "Digite o número de votos nulos: 2\n",
            "Digite o número de votos válidos: 16\n",
            "Porcentagem de votos brancos: 10.0\n",
            "Porcentagem de votos nulos: 10.0\n",
            "Porcentagem de votos válidos: 80.0\n"
          ]
        }
      ]
    },
    {
      "cell_type": "markdown",
      "source": [
        "Questão 4"
      ],
      "metadata": {
        "id": "OnTfrtjXKaWm"
      }
    },
    {
      "cell_type": "code",
      "source": [
        "\n",
        "anos = int(input(\"Digite a idade em anos: \"))\n",
        "meses = int(input(\"Digite a idade em meses: \"))\n",
        "dias = int(input(\"Digite a idade em dias: \"))\n",
        "\n",
        "\n",
        "if anos < 0 and meses < 0 and dias < 0:\n",
        "    print(\"Erro: A idade em anos, meses e dias não pode ser negativa.\")\n",
        "else:\n",
        "\n",
        "    idadeDias = (anos * 365) + (meses * 30) + dias\n",
        "\n",
        "\n",
        "    print(f\"A idade total em dias é: {idadeDias} dias.\")\n"
      ],
      "metadata": {
        "colab": {
          "base_uri": "https://localhost:8080/"
        },
        "id": "YiG7kxnlKcO-",
        "outputId": "e0d1bf1e-6b3b-4f90-884a-6daf2c8c79f6"
      },
      "execution_count": 55,
      "outputs": [
        {
          "output_type": "stream",
          "name": "stdout",
          "text": [
            "Digite a idade em anos: 16\n",
            "Digite a idade em meses: 10\n",
            "Digite a idade em dias: 6\n",
            "A idade total em dias é: 6146 dias.\n"
          ]
        }
      ]
    },
    {
      "cell_type": "markdown",
      "source": [
        "Questão 5"
      ],
      "metadata": {
        "id": "nOOJzlkhLGfe"
      }
    },
    {
      "cell_type": "code",
      "source": [
        "def soma_imposto(taxa, custo):\n",
        "    return custo + custo * taxa // 100\n",
        "\n",
        "custo = int(input(\"insira o custo do item: \"))\n",
        "taxa = int(input(\"insira a taxa de imposto (%): \"))\n",
        "\n",
        "print(\"Valor com imposto:\", soma_imposto(taxa, custo))"
      ],
      "metadata": {
        "colab": {
          "base_uri": "https://localhost:8080/"
        },
        "id": "6l52ukQRMS7b",
        "outputId": "f2b2fc6a-d970-4658-921a-7b9efc3dad38"
      },
      "execution_count": 56,
      "outputs": [
        {
          "output_type": "stream",
          "name": "stdout",
          "text": [
            "insira o custo do item: 15\n",
            "insira a taxa de imposto (%): 2\n",
            "Valor com imposto: 15\n"
          ]
        }
      ]
    },
    {
      "cell_type": "markdown",
      "source": [
        "Questão 6"
      ],
      "metadata": {
        "id": "tFSStYaxTYKH"
      }
    },
    {
      "cell_type": "code",
      "source": [
        "valor = int(input(\"insira o valor da prestação: \"))\n",
        "dias = int(input(\"insira o número de dias em atraso: \"))\n",
        "\n",
        "if dias == 0:\n",
        "    valor_a_pagar = valor\n",
        "else:\n",
        "    valor_a_pagar = valor + valor * 3 // 100 + valor * dias // 1000\n",
        "\n",
        "print(\"Valor a pagar:\", valor_a_pagar)\n",
        "\n",
        "print(\"Total de prestações pagas: 1\")\n",
        "print(\"Valor total recebido:\", valor_a_pagar)"
      ],
      "metadata": {
        "colab": {
          "base_uri": "https://localhost:8080/"
        },
        "id": "rZYHxJwxTbR-",
        "outputId": "ff2bb0de-a477-484b-854b-819386efb93f"
      },
      "execution_count": 57,
      "outputs": [
        {
          "output_type": "stream",
          "name": "stdout",
          "text": [
            "insira o valor da prestação: 100\n",
            "insira o número de dias em atraso: 2\n",
            "Valor a pagar: 103\n",
            "Total de prestações pagas: 1\n",
            "Valor total recebido: 103\n"
          ]
        }
      ]
    }
  ],
  "metadata": {
    "colab": {
      "provenance": [],
      "authorship_tag": "ABX9TyOR6Fg6At7Y7qwD1QIrs12E",
      "include_colab_link": true
    },
    "kernelspec": {
      "display_name": "Python 3",
      "name": "python3"
    },
    "language_info": {
      "name": "python"
    }
  },
  "nbformat": 4,
  "nbformat_minor": 0
}