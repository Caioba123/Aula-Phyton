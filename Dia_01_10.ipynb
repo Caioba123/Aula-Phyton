{
  "nbformat": 4,
  "nbformat_minor": 0,
  "metadata": {
    "colab": {
      "provenance": [],
      "authorship_tag": "ABX9TyN2NtKgyi1vJdneFrgfFJE3",
      "include_colab_link": true
    },
    "kernelspec": {
      "name": "python3",
      "display_name": "Python 3"
    },
    "language_info": {
      "name": "python"
    }
  },
  "cells": [
    {
      "cell_type": "markdown",
      "metadata": {
        "id": "view-in-github",
        "colab_type": "text"
      },
      "source": [
        "<a href=\"https://colab.research.google.com/github/Caioba123/Aula-Phyton/blob/main/Dia_01_10.ipynb\" target=\"_parent\"><img src=\"https://colab.research.google.com/assets/colab-badge.svg\" alt=\"Open In Colab\"/></a>"
      ]
    },
    {
      "cell_type": "markdown",
      "source": [
        "Questão 1"
      ],
      "metadata": {
        "id": "O7IZiqk7eJ7H"
      }
    },
    {
      "cell_type": "code",
      "execution_count": null,
      "metadata": {
        "id": "CtDeqXO3PsON"
      },
      "outputs": [],
      "source": [
        "print(\"Olá!\")\n",
        "print(\"Seja Bem Vindo!\")\n",
        "print(\"Confira os preços abaixo:\")\n",
        "\n",
        "print(\"Arroz: R$ 9,00\")\n",
        "print(\"Feijão: R$ 12,00\")\n",
        "print(\"Carne: R$ 30,00 por KG\")\n",
        "print(\"Macarrão: R$ 5,00\")\n",
        "\n",
        "valorArroz = 6.99\n",
        "valorFeijão = 4.99\n",
        "valorCarne = 35.00\n",
        "valorMacarrão = 3.99\n",
        "\n",
        "if valorArroz < 9.00:\n",
        "    print(\"O valor do arroz está abaixo da média.\")\n",
        "else:\n",
        "    print(\"O valor do arroz está acima da média.\")\n",
        "\n",
        "\n",
        "if valorFeijão < 12.00:\n",
        "    print(\"O valor do feijão está abaixo da média.\")\n",
        "else:\n",
        "    print(\"O valor do feijão está acima da média.\")\n",
        "\n",
        "\n",
        "if valorCarne < 30.00:\n",
        "    print(\"O valor da carne está abaixo da média.\")\n",
        "else:\n",
        "    print(\"O valor da carne está acima da média.\")\n",
        "\n",
        "\n",
        "if valorMacarrão < 5.00:\n",
        "    print(\"O valor do macarrão está abaixo da média.\")\n",
        "else:\n",
        "    print(\"O valor do macarrão está acima da média\")\n",
        "\n"
      ]
    },
    {
      "cell_type": "markdown",
      "source": [
        "Questão 2"
      ],
      "metadata": {
        "id": "Y6t4_P1Od9e4"
      }
    },
    {
      "cell_type": "code",
      "source": [
        "numero1 = input(\"Entre com um número:\")\n",
        "\n",
        "if numero1 > 0:\n",
        "  print(\"O número é positivo\")\n",
        "if\n",
        "  print(\"O número é negativo\")\n",
        "else\n",
        "  print(\"O número não existe\")\n",
        "\n",
        "\n",
        "\n",
        " if numero1 % 2 == 0:\n",
        "  print(\"O número é par\")\n",
        " else:\n",
        "  print(\"O numero é impar\")\n"
      ],
      "metadata": {
        "id": "UKOwIf_mW6QF"
      },
      "execution_count": null,
      "outputs": []
    },
    {
      "cell_type": "markdown",
      "source": [
        "3 Questão"
      ],
      "metadata": {
        "id": "9nrYcRN9bRRA"
      }
    },
    {
      "cell_type": "code",
      "source": [
        "n1 = input(\"Entre com a primeira nota: \")\n",
        "n2 = input(\"Entre com a segunda nota: \")\n",
        "n3 = input(\"Entre com a terceira nota: \")\n",
        "n4 = input(\"Entre com a quarta nota: \")\n",
        "\n",
        "n1 = int(n1)\n",
        "n2 = int(n2)\n",
        "n3 = int(n3)\n",
        "n4 = int(n4)\n",
        "\n",
        "\n",
        "resultado = n1 + n2 + n3 + n4\n",
        "média = resultado / 4\n",
        "\n",
        "print(\"A média é:\", média)\n",
        "\n",
        "if média == 10:\n",
        "  print(\"Aprovado com louvor\")\n",
        "if média >= 7:\n",
        "  print(\"Aprovado\")\n",
        "else:\n",
        "  print(\"Reprovado\")\n"
      ],
      "metadata": {
        "id": "tA07q3dxbVSv"
      },
      "execution_count": null,
      "outputs": []
    },
    {
      "cell_type": "markdown",
      "source": [
        "Questão 4"
      ],
      "metadata": {
        "id": "uBZq6HTgdhLC"
      }
    },
    {
      "cell_type": "code",
      "source": [
        "fah = input(\"Diga a temperatura em fahrenheit:\")\n",
        "\n",
        "fah = int(fah)\n",
        "\n",
        "celsius = (5 * (fah - 32)) //9\n",
        "\n",
        "print(\"Temperatura em fahrenheit\" , fah , \"°F\")\n",
        "print(\"Temperatura convertida para Ceslsius\" , celsius , \"°C\")"
      ],
      "metadata": {
        "id": "XyKRoASSdlZA"
      },
      "execution_count": null,
      "outputs": []
    },
    {
      "cell_type": "markdown",
      "source": [
        "Questão 5"
      ],
      "metadata": {
        "id": "M5H4mpjufVtt"
      }
    },
    {
      "cell_type": "code",
      "source": [
        "\n",
        "candidato1 = int(input(\"Digite o número de votos do candidato 1:\"))\n",
        "candidato2 = int(input(\"Digite o número de votos do candidato 2:\"))\n",
        "candidato3 = int(input(\"Digite o número de votos do candidato 3:\"))\n",
        "\n",
        "if candidato1 > candidato2 and candidato1 > candidato3:\n",
        "  print(\"O candidato 1 venceu a eleição com\", candidato1, \"votos.\")\n",
        "elif candidato2 > candidato1 and candidato2 > candidato3:\n",
        "   print(\"O candidato 2 venceu a eleição com\", candidato2, \"votos.\")\n",
        "else:\n",
        "   print(\"O candidato 3 venceu a eleição com\", candidato3, \"votos.\")\n"
      ],
      "metadata": {
        "id": "uSHIXhWwfYYF",
        "colab": {
          "base_uri": "https://localhost:8080/"
        },
        "outputId": "517a155c-c1c0-439c-a099-be780688dc09"
      },
      "execution_count": 1,
      "outputs": [
        {
          "output_type": "stream",
          "name": "stdout",
          "text": [
            "Digite o número de votos do candidato 1:2000\n",
            "Digite o número de votos do candidato 2:1\n",
            "Digite o número de votos do candidato 3:2\n",
            "O candidato 1 venceu a eleição com 2000 votos.\n"
          ]
        }
      ]
    },
    {
      "cell_type": "markdown",
      "source": [
        "Questão 6"
      ],
      "metadata": {
        "id": "7wra-AtKgiQD"
      }
    },
    {
      "cell_type": "code",
      "source": [
        "# Lista simulada de 50 pessoas\n",
        "pessoas = [ {\"altura\": 1.85, \"sexo\": \"M\"},\n",
        "    {\"altura\": 1.62, \"sexo\": \"F\"},\n",
        "    {\"altura\": 1.73, \"sexo\": \"M\"},\n",
        "    {\"altura\": 1.58, \"sexo\": \"F\"},\n",
        "    {\"altura\": 1.90, \"sexo\": \"M\"},\n",
        "    {\"altura\": 1.65, \"sexo\": \"F\"},\n",
        "    {\"altura\": 1.78, \"sexo\": \"M\"},\n",
        "    {\"altura\": 1.60, \"sexo\": \"F\"},\n",
        "    {\"altura\": 1.82, \"sexo\": \"M\"},\n",
        "    {\"altura\": 1.55, \"sexo\": \"F\"},\n",
        "    {\"altura\": 1.92, \"sexo\": \"M\"},\n",
        "    {\"altura\": 1.67, \"sexo\": \"F\"},\n",
        "    {\"altura\": 1.76, \"sexo\": \"M\"},\n",
        "    {\"altura\": 1.70, \"sexo\": \"F\"},\n",
        "    {\"altura\": 1.88, \"sexo\": \"M\"},\n",
        "    {\"altura\": 1.63, \"sexo\": \"F\"},\n",
        "    {\"altura\": 1.81, \"sexo\": \"M\"},\n",
        "    {\"altura\": 1.59, \"sexo\": \"F\"},\n",
        "    {\"altura\": 1.80, \"sexo\": \"M\"},\n",
        "    {\"altura\": 1.66, \"sexo\": \"F\"},\n",
        "    {\"altura\": 1.91, \"sexo\": \"M\"},\n",
        "    {\"altura\": 1.64, \"sexo\": \"F\"},\n",
        "    {\"altura\": 1.77, \"sexo\": \"M\"},\n",
        "    {\"altura\": 1.56, \"sexo\": \"F\"},\n",
        "    {\"altura\": 1.84, \"sexo\": \"M\"},\n",
        "    {\"altura\": 1.61, \"sexo\": \"F\"},\n",
        "    {\"altura\": 1.89, \"sexo\": \"M\"},\n",
        "    {\"altura\": 1.68, \"sexo\": \"F\"},\n",
        "    {\"altura\": 1.74, \"sexo\": \"M\"},\n",
        "    {\"altura\": 1.57, \"sexo\": \"F\"},\n",
        "    {\"altura\": 1.83, \"sexo\": \"M\"},\n",
        "    {\"altura\": 1.69, \"sexo\": \"F\"},\n",
        "    {\"altura\": 1.87, \"sexo\": \"M\"},\n",
        "    {\"altura\": 1.60, \"sexo\": \"F\"},\n",
        "    {\"altura\": 1.79, \"sexo\": \"M\"},\n",
        "    {\"altura\": 1.65, \"sexo\": \"F\"},\n",
        "    {\"altura\": 1.86, \"sexo\": \"M\"},\n",
        "    {\"altura\": 1.58, \"sexo\": \"F\"},\n",
        "    {\"altura\": 1.75, \"sexo\": \"M\"},\n",
        "    {\"altura\": 1.62, \"sexo\": \"F\"},\n",
        "    {\"altura\": 1.93, \"sexo\": \"M\"},\n",
        "    {\"altura\": 1.66, \"sexo\": \"F\"},\n",
        "    {\"altura\": 1.72, \"sexo\": \"M\"},\n",
        "    {\"altura\": 1.54, \"sexo\": \"F\"},\n",
        "    {\"altura\": 1.90, \"sexo\": \"M\"},\n",
        "    {\"altura\": 1.67, \"sexo\": \"F\"},\n",
        "    {\"altura\": 1.80, \"sexo\": \"M\"},\n",
        "    {\"altura\": 1.60, \"sexo\": \"F\"},\n",
        "    {\"altura\": 1.85, \"sexo\": \"M\"},\n",
        "    {\"altura\": 1.59, \"sexo\": \"F\"}, ]\n",
        "\n",
        "\n",
        "alturas = []\n",
        "soma_altura_mulheres = 0\n",
        "quant_mulheres = 0\n",
        "quant_homens = 0\n",
        "\n",
        "\n",
        "for pessoa in pessoas:\n",
        "    altura = pessoa[\"altura\"]\n",
        "    sexo = pessoa[\"sexo\"]\n",
        "\n",
        "    alturas.append(altura)\n",
        "\n",
        "    if sexo == \"F\":\n",
        "        soma_altura_mulheres += altura\n",
        "        quant_mulheres += 1\n",
        "    else:\n",
        "        quant_homens += 1\n",
        "\n",
        "\n",
        "maior_altura = max(alturas)\n",
        "menor_altura = min(alturas)\n",
        "media_altura_mulheres = soma_altura_mulheres / quant_mulheres if quant_mulheres > 0 else 0\n",
        "porcentagem_homens = (quant_homens / 50) * 100\n",
        "porcentagem_mulheres = (quant_mulheres / 50) * 100\n",
        "\n",
        "\n",
        "print(\"\\n===== RESULTADOS =====\")\n",
        "print(f\"Maior altura do grupo: {maior_altura:.2f} m\")\n",
        "print(f\"Menor altura do grupo: {menor_altura:.2f} m\")\n",
        "print(f\"Média de altura das mulheres: {media_altura_mulheres:.2f} m\")\n",
        "print(f\"Número total de homens: {quant_homens}\")\n",
        "print(f\"Porcentagem de homens: {porcentagem_homens:.1f}%\")\n",
        "print(f\"Porcentagem de mulheres: {porcentagem_mulheres:.1f}%\")\n"
      ],
      "metadata": {
        "id": "QlThX1oaglbJ"
      },
      "execution_count": null,
      "outputs": []
    },
    {
      "cell_type": "markdown",
      "source": [
        "Questão 7"
      ],
      "metadata": {
        "id": "WOJ5Yg_mlnFB"
      }
    },
    {
      "cell_type": "code",
      "source": [
        "totalVendas = input(\"Digite abaixo o numero total das vendas da sua empresa: \")\n",
        "\n",
        "\n",
        "totalVendas = float(totalVendas)\n",
        "\n",
        "lucro = totalVendas * 0.23\n",
        "\n",
        "print(\"Levando em conta que apenas 23% representa o lucro, o retorno será de\" , lucro ,)"
      ],
      "metadata": {
        "id": "KVLp2-1-l4pA"
      },
      "execution_count": null,
      "outputs": []
    },
    {
      "cell_type": "markdown",
      "source": [
        "Questão 8"
      ],
      "metadata": {
        "id": "_ea6J0xFoB59"
      }
    },
    {
      "cell_type": "code",
      "source": [
        "\n",
        "num = int(input(\"Digite um número inteiro: \"))\n",
        "\n",
        "if num <= 1:\n",
        "    print(f\"{num} não é um número primo.\")\n",
        "else:\n",
        "    primo = True\n",
        "    for divisor in range(2, int(num**0.5) + 1):\n",
        "        if num % divisor == 0:\n",
        "            primo = False\n",
        "            break\n",
        "    if primo:\n",
        "        print(f\"{num} é um número primo.\")\n",
        "    else:\n",
        "        print(f\"{num} não é um número primo.\")\n"
      ],
      "metadata": {
        "id": "mUUMixg2oEAX",
        "colab": {
          "base_uri": "https://localhost:8080/"
        },
        "outputId": "21b14268-4424-48a5-b302-ce85fb599bc2"
      },
      "execution_count": 6,
      "outputs": [
        {
          "output_type": "stream",
          "name": "stdout",
          "text": [
            "Digite um número inteiro: 10\n",
            "10 não é um número primo.\n"
          ]
        }
      ]
    },
    {
      "cell_type": "markdown",
      "source": [
        "Questão 9"
      ],
      "metadata": {
        "id": "Xx_qCBL6ppZs"
      }
    },
    {
      "cell_type": "code",
      "source": [
        "num = int(input(\"Digite um Número\"))\n",
        "fatorial = 1\n",
        "\n",
        "for i in range(1, num+1):\n",
        "  fatorial *= i\n",
        "\n",
        "print(\"Fatorial de\", num, \"=\", fatorial)\n"
      ],
      "metadata": {
        "id": "ttmwkabjprmE"
      },
      "execution_count": null,
      "outputs": []
    },
    {
      "cell_type": "markdown",
      "source": [
        "Questão 10"
      ],
      "metadata": {
        "id": "i2vXuCpqqiby"
      }
    },
    {
      "cell_type": "code",
      "source": [
        "Valor_Original = int(input(\"Digite o valor original de um produto: \"))\n",
        "desconto = float(input(\"Digite a porcentagem do desconto\"))\n",
        "desconto = desconto / 100\n",
        "\n",
        "Valor_final = Valor_Original - (Valor_Original * desconto)\n",
        "print(\"O Valor Final com Desconto é : \", Valor_final)"
      ],
      "metadata": {
        "id": "7prvT40Csaay"
      },
      "execution_count": null,
      "outputs": []
    },
    {
      "cell_type": "markdown",
      "source": [
        "Questão 11"
      ],
      "metadata": {
        "id": "8-O3sDpU1XTs"
      }
    },
    {
      "cell_type": "code",
      "source": [
        "horas = int(input(\"Digite o Tempo em Horas\"))\n",
        "minutos = horas * 60\n",
        "segundos =horas * 3600\n",
        "print(f\"{horas} hora(s) equivalem a {minutos} minuto(s) e {segundos} segundo(s).\")"
      ],
      "metadata": {
        "id": "Vkq5E9Hv1Y5z"
      },
      "execution_count": null,
      "outputs": []
    },
    {
      "cell_type": "markdown",
      "source": [
        "Questão 12"
      ],
      "metadata": {
        "id": "CIcalb7S1e27"
      }
    },
    {
      "cell_type": "code",
      "source": [
        "nota1 = int(input(\"Digite a sua primeira nota\"))\n",
        "peso1 = int(input(\"Escreva o valor do primeiro peso\"))\n",
        "\n",
        "nota2 = int(input(\"Digite a segunda nota\"))\n",
        "peso2 = int(input(\"Escreva o valor do segundo peso\"))\n",
        "\n",
        "nota3 = int(input(\"Digite a terceira nota\"))\n",
        "peso3 = int(input(\"Escreva o valor do terceiro peso\"))\n",
        "\n",
        "soma_geral = (nota1 * peso1) + (nota2 * peso2) + (nota3 * peso3)\n",
        "\n",
        "soma_pesos = peso1 + peso2 + peso3\n",
        "\n",
        "media_ponderada = soma_geral / soma_pesos\n",
        "\n",
        "print(\"A Média Ponderada Do Aluno é: \", media_ponderada)\n"
      ],
      "metadata": {
        "id": "YYys9PHN1g6r"
      },
      "execution_count": null,
      "outputs": []
    },
    {
      "cell_type": "markdown",
      "source": [
        "Questão 13"
      ],
      "metadata": {
        "id": "c985Akz-1j2i"
      }
    },
    {
      "cell_type": "code",
      "source": [
        "\n",
        "num1 = int(input(\"Digite o primeiro número: \"))\n",
        "num2 = int(input(\"Digite o segundo número: \"))\n",
        "num3 = int(input(\"Digite o terceiro número: \"))\n",
        "\n",
        "\n",
        "if num1 <= num2 and num1 <= num3:\n",
        "    # num1 é o menor\n",
        "    if num2 <= num3:\n",
        "        print(f\"{num1} {num2} {num3}\")\n",
        "    else:\n",
        "        print(f\"{num1} {num3} {num2}\")\n",
        "if num2 <= num1 and num2 <= num3:\n",
        "    # num2 é o menor\n",
        "    if num1 <= num3:\n",
        "        print(f\"{num2} {num1} {num3}\")\n",
        "    else:\n",
        "        print(f\"{num2} {num3} {num1}\")\n",
        "else:\n",
        "    # num3 é o menor\n",
        "    if num1 <= num2:\n",
        "        print(f\"{num3} {num1} {num2}\")\n",
        "    else:\n",
        "        print(f\"{num3} {num2} {num1}\")\n"
      ],
      "metadata": {
        "colab": {
          "base_uri": "https://localhost:8080/"
        },
        "id": "u6PbqVTJ2Pqi",
        "outputId": "44c6b563-61d0-48b2-ee2a-5a1b118a25d0"
      },
      "execution_count": 7,
      "outputs": [
        {
          "output_type": "stream",
          "name": "stdout",
          "text": [
            "Digite o primeiro número: 10\n",
            "Digite o segundo número: 20\n",
            "Digite o terceiro número: 30\n",
            "10 20 30\n",
            "30 10 20\n"
          ]
        }
      ]
    },
    {
      "cell_type": "markdown",
      "source": [
        "Questão 14"
      ],
      "metadata": {
        "id": "VJuf3Kg72q2K"
      }
    },
    {
      "cell_type": "code",
      "source": [
        "\n",
        "print(\"Escolha a figura geométrica para calcular a área:\")\n",
        "print(\"1 - Quadrado\")\n",
        "print(\"2 - Retângulo\")\n",
        "print(\"3 - Círculo\")\n",
        "print(\"4 - Triângulo\")\n",
        "\n",
        "opcao = int(input(\"Digite o número correspondente à figura geométrica: \"))\n",
        "\n",
        "\n",
        "if opcao == 1:\n",
        "\n",
        "    lado = float(input(\"Digite o valor do lado do quadrado: \"))\n",
        "    area = lado ** 2\n",
        "    print(f\"A área do quadrado é: {area:.2f}\")\n",
        "if opcao == 2:\n",
        "\n",
        "    base = float(input(\"Digite o valor da base do retângulo: \"))\n",
        "    altura = float(input(\"Digite o valor da altura do retângulo: \"))\n",
        "    area = base * altura\n",
        "    print(f\"A área do retângulo é: {area:.2f}\")\n",
        "if opcao == 3:\n",
        "\n",
        "    raio = float(input(\"Digite o valor do raio do círculo: \"))\n",
        "    area = math.pi * raio ** 2\n",
        "    print(f\"A área do círculo é: {area:.2f}\")\n",
        "if opcao == 4:\n",
        "\n",
        "    base = float(input(\"Digite o valor da base do triângulo: \"))\n",
        "    altura = float(input(\"Digite o valor da altura do triângulo: \"))\n",
        "    area = (base * altura) / 2\n",
        "    print(f\"A área do triângulo é: {area:.2f}\")\n",
        "else:\n",
        "    print(\"Opção inválida. Escolha uma opção de 1 a 4.\")\n"
      ],
      "metadata": {
        "colab": {
          "base_uri": "https://localhost:8080/"
        },
        "id": "7dm_67ZE2szh",
        "outputId": "beb94105-7e2a-4cdd-d738-c8b666258598"
      },
      "execution_count": 8,
      "outputs": [
        {
          "output_type": "stream",
          "name": "stdout",
          "text": [
            "Escolha a figura geométrica para calcular a área:\n",
            "1 - Quadrado\n",
            "2 - Retângulo\n",
            "3 - Círculo\n",
            "4 - Triângulo\n",
            "Digite o número correspondente à figura geométrica: 1\n",
            "Digite o valor do lado do quadrado: 20\n",
            "A área do quadrado é: 400.00\n",
            "Opção inválida. Escolha uma opção de 1 a 4.\n"
          ]
        }
      ]
    }
  ]
}